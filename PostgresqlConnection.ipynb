{
 "cells": [
  {
   "cell_type": "code",
   "execution_count": 17,
   "metadata": {},
   "outputs": [],
   "source": [
    "import pandas as pd\n",
    "import requests\n",
    "import psycopg2\n",
    "import csv\n"
   ]
  },
  {
   "cell_type": "code",
   "execution_count": 18,
   "metadata": {},
   "outputs": [
    {
     "name": "stdout",
     "output_type": "stream",
     "text": [
      "Connection Established To : ('PostgreSQL 14.5, compiled by Visual C++ build 1914, 64-bit',)\n"
     ]
    }
   ],
   "source": [
    "connectTopostgresql = psycopg2.connect(\n",
    "    database = \"postgres\",\n",
    "    user = 'postgres',\n",
    "    password = '*****************',\n",
    "    host = '127.0.0.1',\n",
    "    port = '5432'\n",
    ")\n",
    "\n",
    "curr = connectTopostgresql.cursor()\n",
    "curr.execute(\"select version()\")\n",
    "\n",
    "data = curr.fetchone()\n",
    "print(\"Connection Established To :\", data)"
   ]
  },
  {
   "cell_type": "code",
   "execution_count": 19,
   "metadata": {},
   "outputs": [],
   "source": [
    "curr.execute(\"SELECT age, sex, cp, trestbps, chol, fbs, restecg, thalach, exang, num FROM connection.heart_diseas;\")\n",
    "dataset = curr.fetchall()"
   ]
  },
  {
   "cell_type": "code",
   "execution_count": 20,
   "metadata": {},
   "outputs": [],
   "source": [
    "curr.close()\n",
    "connectTopostgresql.close()"
   ]
  },
  {
   "cell_type": "code",
   "execution_count": null,
   "metadata": {},
   "outputs": [],
   "source": []
  }
 ],
 "metadata": {
  "kernelspec": {
   "display_name": "base",
   "language": "python",
   "name": "python3"
  },
  "language_info": {
   "codemirror_mode": {
    "name": "ipython",
    "version": 3
   },
   "file_extension": ".py",
   "mimetype": "text/x-python",
   "name": "python",
   "nbconvert_exporter": "python",
   "pygments_lexer": "ipython3",
   "version": "3.9.13"
  },
  "orig_nbformat": 4,
  "vscode": {
   "interpreter": {
    "hash": "633478b44a31e9ac645df835fa3e924e7e3f023cef440ededb4f8a8fba30d2f5"
   }
  }
 },
 "nbformat": 4,
 "nbformat_minor": 2
}
