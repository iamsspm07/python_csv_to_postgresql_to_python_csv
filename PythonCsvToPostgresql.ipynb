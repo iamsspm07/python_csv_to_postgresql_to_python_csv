{
 "cells": [
  {
   "cell_type": "code",
   "execution_count": 21,
   "metadata": {},
   "outputs": [],
   "source": [
    "import requests\n",
    "import psycopg2\n",
    "import csv"
   ]
  },
  {
   "cell_type": "code",
   "execution_count": 22,
   "metadata": {},
   "outputs": [],
   "source": [
    "csvFile = \"\""
   ]
  },
  {
   "cell_type": "code",
   "execution_count": 23,
   "metadata": {},
   "outputs": [
    {
     "name": "stdout",
     "output_type": "stream",
     "text": [
      "Connection Established To : ('PostgreSQL 14.5, compiled by Visual C++ build 1914, 64-bit',)\n"
     ]
    }
   ],
   "source": [
    "connectTopostgresql = psycopg2.connect(\n",
    "    database = \"postgres\",\n",
    "    user = 'postgres',\n",
    "    password = '***********************',\n",
    "    host = '127.0.0.1',\n",
    "    port = '5432'\n",
    ")\n",
    "\n",
    "curr = connectTopostgresql.cursor()\n",
    "curr.execute(\"select version()\")\n",
    "\n",
    "data = curr.fetchone()\n",
    "print(\"Connection Established To :\", data)"
   ]
  },
  {
   "cell_type": "code",
   "execution_count": 24,
   "metadata": {},
   "outputs": [],
   "source": [
    "filePath = \"D:\\AI_ML\\combined_dataset.csv\"\n",
    "with open(filePath, mode='r') as file:\n",
    "    count = 0\n",
    "    csvFile = csv.reader(file)\n",
    "    for row in csvFile:\n",
    "        curr.execute(\"INSERT INTO connection.heart_diseas(age, sex, cp, trestbps, chol, fbs, restecg, thalach, exang, num)VALUES ('\"+str(row[0])+\"', '\"+str(row[1])+\"', '\"+str(row[2])+\"', '\"+str(row[3])+\"', '\"+str(row[4])+\"', '\"+str(row[5])+\"', '\"+str(row[6])+\"', '\"+str(row[7])+\"', '\"+str(row[8])+\"', '\"+str(row[9])+\"');\")\n",
    "connectTopostgresql.commit()"
   ]
  },
  {
   "cell_type": "code",
   "execution_count": 25,
   "metadata": {},
   "outputs": [],
   "source": [
    "curr.close()\n",
    "connectTopostgresql.close()"
   ]
  }
 ],
 "metadata": {
  "kernelspec": {
   "display_name": "base",
   "language": "python",
   "name": "python3"
  },
  "language_info": {
   "codemirror_mode": {
    "name": "ipython",
    "version": 3
   },
   "file_extension": ".py",
   "mimetype": "text/x-python",
   "name": "python",
   "nbconvert_exporter": "python",
   "pygments_lexer": "ipython3",
   "version": "3.9.13"
  },
  "orig_nbformat": 4,
  "vscode": {
   "interpreter": {
    "hash": "633478b44a31e9ac645df835fa3e924e7e3f023cef440ededb4f8a8fba30d2f5"
   }
  }
 },
 "nbformat": 4,
 "nbformat_minor": 2
}
